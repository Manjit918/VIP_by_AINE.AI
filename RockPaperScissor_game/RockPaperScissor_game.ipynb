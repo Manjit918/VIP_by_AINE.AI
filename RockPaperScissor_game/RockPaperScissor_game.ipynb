{
 "cells": [
  {
   "cell_type": "markdown",
   "metadata": {},
   "source": [
    "#  Virtual Internship Program by AINE.AI"
   ]
  },
  {
   "cell_type": "markdown",
   "metadata": {},
   "source": [
    "# Project: Developing ‘Rock, Paper and Scissors’ game using Python programming"
   ]
  },
  {
   "cell_type": "markdown",
   "metadata": {},
   "source": [
    "## About the project: The project leverages the basic concepts of Python programming such as variables, data types, loop and conditional statements to develop the game of Rock, Papers and Scissors.\n",
    "\n",
    "####  - : Manjit Kumar Singh"
   ]
  },
  {
   "cell_type": "code",
   "execution_count": 1,
   "metadata": {},
   "outputs": [],
   "source": [
    "import random "
   ]
  },
  {
   "cell_type": "code",
   "execution_count": 2,
   "metadata": {},
   "outputs": [],
   "source": [
    "elements = [\"Rock\",\"Paper\",\"Scissor\"] "
   ]
  },
  {
   "cell_type": "code",
   "execution_count": 3,
   "metadata": {},
   "outputs": [],
   "source": [
    "player = False"
   ]
  },
  {
   "cell_type": "code",
   "execution_count": 4,
   "metadata": {},
   "outputs": [
    {
     "name": "stdout",
     "output_type": "stream",
     "text": [
      "Enter your move(Rock,Paper,Scissor): Paper\n",
      "\n",
      "Your move Paper, Computer's move Rock.\n",
      "\n",
      "Paper covers Rock! You Win!\n",
      "\n",
      "Do you want to play another round(y/n) \n",
      "y\n",
      "Enter your move(Rock,Paper,Scissor): Paper\n",
      "\n",
      "Your move Paper, Computer's move Rock.\n",
      "\n",
      "Paper covers Rock! You Win!\n",
      "\n",
      "Do you want to play another round(y/n) \n",
      "y\n",
      "Enter your move(Rock,Paper,Scissor): Paper\n",
      "\n",
      "Your move Paper, Computer's move Rock.\n",
      "\n",
      "Paper covers Rock! You Win!\n",
      "\n",
      "Do you want to play another round(y/n) \n",
      "y\n",
      "Enter your move(Rock,Paper,Scissor): Rock\n",
      "\n",
      "Your move Rock, Computer's move Scissor.\n",
      "\n",
      "Rock crushes Scissor! You win!\n",
      "\n",
      "Do you want to play another round(y/n) \n",
      "n\n",
      "Thanks for playing!!\n"
     ]
    }
   ],
   "source": [
    "while player == False:\n",
    "    computer = elements[random.randint(0, 2)]\n",
    "    player = input(\"Enter your move(%s): \"%','.join(elements))\n",
    "    print(f\"\\nYour move {player}, Computer's move {computer}.\\n\")\n",
    "    if computer == player:\n",
    "        print(\"Match Drawn\\n\")\n",
    "    elif player == \"Rock\":\n",
    "        if computer == 'Scissor':\n",
    "            print(\"Rock crushes Scissor! You win!\\n\")\n",
    "        else:\n",
    "            print(\"Paper covers Rock! You lose\\n\")\n",
    "    elif player == \"Paper\":\n",
    "        if computer == \"Rock\":\n",
    "            print(\"Paper covers Rock! You Win!\\n\")\n",
    "        else:\n",
    "            print(\"Scissor cuts Paper! You lose.\\n\")\n",
    "    elif player == \"Scissor\":\n",
    "        if computer == \"Paper\":\n",
    "            print(\"Scissor cuts Paper! You win!\\n\")\n",
    "        else:\n",
    "            print(\"Rock Crushes Scissor! You lose.\\n\")\n",
    "    new_game = input(\"Do you want to play another round(y/n) \\n\")\n",
    "    if new_game == 'y' or new_game == 'Y':\n",
    "        player = False\n",
    "    else:\n",
    "        print(\"Thanks for playing!!\")\n",
    "        break  "
   ]
  },
  {
   "cell_type": "code",
   "execution_count": null,
   "metadata": {},
   "outputs": [],
   "source": []
  }
 ],
 "metadata": {
  "kernelspec": {
   "display_name": "Python 3",
   "language": "python",
   "name": "python3"
  },
  "language_info": {
   "codemirror_mode": {
    "name": "ipython",
    "version": 3
   },
   "file_extension": ".py",
   "mimetype": "text/x-python",
   "name": "python",
   "nbconvert_exporter": "python",
   "pygments_lexer": "ipython3",
   "version": "3.7.6"
  }
 },
 "nbformat": 4,
 "nbformat_minor": 4
}
